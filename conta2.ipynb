{
 "cells": [
  {
   "cell_type": "code",
   "execution_count": 1,
   "metadata": {},
   "outputs": [],
   "source": [
    "from conta import Conta"
   ]
  },
  {
   "cell_type": "code",
   "execution_count": 2,
   "metadata": {},
   "outputs": [],
   "source": [
    "# cliente = Cliente('Vitor')\n",
    "# cliente.nome"
   ]
  },
  {
   "cell_type": "code",
   "execution_count": 3,
   "metadata": {},
   "outputs": [
    {
     "name": "stdout",
     "output_type": "stream",
     "text": [
      "Construindo Objeto\n"
     ]
    },
    {
     "data": {
      "text/plain": [
       "<conta.Conta at 0x22ce16f42b0>"
      ]
     },
     "execution_count": 3,
     "metadata": {},
     "output_type": "execute_result"
    }
   ],
   "source": [
    "# \"Abrindo uma conta\"\n",
    "conta = Conta(123, 'Vitor', 1000.0, 1000.0)\n",
    "conta"
   ]
  },
  {
   "cell_type": "code",
   "execution_count": 4,
   "metadata": {},
   "outputs": [],
   "source": [
    "conta.saca(500.0)"
   ]
  },
  {
   "cell_type": "code",
   "execution_count": 5,
   "metadata": {},
   "outputs": [
    {
     "name": "stdout",
     "output_type": "stream",
     "text": [
      "Saldo de 500.0 do Titular Vitor\n"
     ]
    }
   ],
   "source": [
    "# checando limite\n",
    "conta.extrato()"
   ]
  },
  {
   "cell_type": "code",
   "execution_count": 6,
   "metadata": {},
   "outputs": [
    {
     "ename": "AttributeError",
     "evalue": "'Conta' object has no attribute 'pode_sacar'",
     "output_type": "error",
     "traceback": [
      "\u001b[1;31m---------------------------------------------------------------------------\u001b[0m",
      "\u001b[1;31mAttributeError\u001b[0m                            Traceback (most recent call last)",
      "\u001b[1;32mc:\\Users\\vitaoTM\\Google Drive\\CODE\\ALURA\\python_voltado_objetos\\conta2.ipynb Cell 6'\u001b[0m in \u001b[0;36m<cell line: 1>\u001b[1;34m()\u001b[0m\n\u001b[1;32m----> <a href='vscode-notebook-cell:/c%3A/Users/vitaoTM/Google%20Drive/CODE/ALURA/python_voltado_objetos/conta2.ipynb#ch0000005?line=0'>1</a>\u001b[0m conta\u001b[39m.\u001b[39;49mpode_sacar(\u001b[39m100.0\u001b[39m)\n",
      "\u001b[1;31mAttributeError\u001b[0m: 'Conta' object has no attribute 'pode_sacar'"
     ]
    }
   ],
   "source": [
    "conta.pode_sacar(100.0)\n",
    "\n",
    "\n",
    "\n",
    "\n",
    "\n"
   ]
  },
  {
   "cell_type": "code",
   "execution_count": null,
   "metadata": {},
   "outputs": [],
   "source": []
  }
 ],
 "metadata": {
  "kernelspec": {
   "display_name": "Python 3.9.0 64-bit",
   "language": "python",
   "name": "python3"
  },
  "language_info": {
   "codemirror_mode": {
    "name": "ipython",
    "version": 3
   },
   "file_extension": ".py",
   "mimetype": "text/x-python",
   "name": "python",
   "nbconvert_exporter": "python",
   "pygments_lexer": "ipython3",
   "version": "3.9.0"
  },
  "orig_nbformat": 4,
  "vscode": {
   "interpreter": {
    "hash": "c77c143492b9dd6f42c8b3369f3e8e42061da6748ee0f67ec3313d28fe05717f"
   }
  }
 },
 "nbformat": 4,
 "nbformat_minor": 2
}
