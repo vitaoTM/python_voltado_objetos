{
 "cells": [
  {
   "cell_type": "code",
   "execution_count": 3,
   "metadata": {},
   "outputs": [],
   "source": [
    "from conta import Conta\n",
    "from cliente import Cliente"
   ]
  },
  {
   "cell_type": "code",
   "execution_count": 4,
   "metadata": {},
   "outputs": [
    {
     "data": {
      "text/plain": [
       "'Vitor'"
      ]
     },
     "execution_count": 4,
     "metadata": {},
     "output_type": "execute_result"
    }
   ],
   "source": [
    "cliente = Cliente('Vitor')\n",
    "cliente.nome"
   ]
  },
  {
   "cell_type": "code",
   "execution_count": 3,
   "metadata": {},
   "outputs": [
    {
     "name": "stdout",
     "output_type": "stream",
     "text": [
      "Construindo Objeto\n"
     ]
    },
    {
     "data": {
      "text/plain": [
       "<__main__.Conta at 0x1c25351e400>"
      ]
     },
     "execution_count": 3,
     "metadata": {},
     "output_type": "execute_result"
    }
   ],
   "source": [
    "# \"Abrindo uma conta\"\n",
    "conta = Conta(123, 'Vitor', 1000.0, 1000.0)\n",
    "conta"
   ]
  },
  {
   "cell_type": "code",
   "execution_count": null,
   "metadata": {},
   "outputs": [],
   "source": []
  },
  {
   "cell_type": "code",
   "execution_count": 4,
   "metadata": {},
   "outputs": [
    {
     "name": "stdout",
     "output_type": "stream",
     "text": [
      "Saldo de 1000.0 do Titular Vitor\n"
     ]
    }
   ],
   "source": [
    "# checando limite\n",
    "conta.extrato()"
   ]
  },
  {
   "cell_type": "code",
   "execution_count": 6,
   "metadata": {},
   "outputs": [
    {
     "ename": "ImportError",
     "evalue": "cannot import name 'Data' from 'datas' (c:\\Users\\vitaoTM\\Google Drive\\CODE\\ALURA\\python_voltado_objetos\\datas.py)",
     "output_type": "error",
     "traceback": [
      "\u001b[1;31m---------------------------------------------------------------------------\u001b[0m",
      "\u001b[1;31mImportError\u001b[0m                               Traceback (most recent call last)",
      "\u001b[1;32mc:\\Users\\vitaoTM\\Google Drive\\CODE\\ALURA\\python_voltado_objetos\\conta.ipynb Cell 5'\u001b[0m in \u001b[0;36m<cell line: 1>\u001b[1;34m()\u001b[0m\n\u001b[1;32m----> <a href='vscode-notebook-cell:/c%3A/Users/vitaoTM/Google%20Drive/CODE/ALURA/python_voltado_objetos/conta.ipynb#ch0000004?line=0'>1</a>\u001b[0m \u001b[39mfrom\u001b[39;00m \u001b[39mdatas\u001b[39;00m \u001b[39mimport\u001b[39;00m Data\n",
      "\u001b[1;31mImportError\u001b[0m: cannot import name 'Data' from 'datas' (c:\\Users\\vitaoTM\\Google Drive\\CODE\\ALURA\\python_voltado_objetos\\datas.py)"
     ]
    }
   ],
   "source": [
    "\n",
    "\n",
    "\n",
    "\n",
    "\n",
    "\n",
    "\n"
   ]
  },
  {
   "cell_type": "code",
   "execution_count": null,
   "metadata": {},
   "outputs": [],
   "source": []
  }
 ],
 "metadata": {
  "kernelspec": {
   "display_name": "Python 3.9.0 64-bit",
   "language": "python",
   "name": "python3"
  },
  "language_info": {
   "codemirror_mode": {
    "name": "ipython",
    "version": 3
   },
   "file_extension": ".py",
   "mimetype": "text/x-python",
   "name": "python",
   "nbconvert_exporter": "python",
   "pygments_lexer": "ipython3",
   "version": "3.9.0"
  },
  "orig_nbformat": 4,
  "vscode": {
   "interpreter": {
    "hash": "c77c143492b9dd6f42c8b3369f3e8e42061da6748ee0f67ec3313d28fe05717f"
   }
  }
 },
 "nbformat": 4,
 "nbformat_minor": 2
}
