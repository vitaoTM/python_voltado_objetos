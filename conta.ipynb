{
 "cells": [
  {
   "cell_type": "code",
   "execution_count": 15,
   "metadata": {},
   "outputs": [],
   "source": [
    "class Conta: \n",
    "    \n",
    "    def __init__(self, numero, titular, saldo, limite):\n",
    "        print(\"Construindo Objeto\")\n",
    "        self.numero = numero\n",
    "        self.titular = titular\n",
    "        self.saldo = saldo\n",
    "        self.limite = limite\n",
    "    \n",
    "    def extrato(self):\n",
    "        print(f'Saldo de {self.saldo} do Titular {self.titular}')\n",
    "\n",
    "    def deposita(self, valor):\n",
    "        self.saldo += valor \n",
    "\n",
    "    def saca(self, valor):\n",
    "        self.saldo -= valor \n",
    "\n",
    "\n",
    "\n",
    "    "
   ]
  },
  {
   "cell_type": "code",
   "execution_count": 9,
   "metadata": {},
   "outputs": [
    {
     "data": {
      "text/plain": [
       "__main__.Conta"
      ]
     },
     "execution_count": 9,
     "metadata": {},
     "output_type": "execute_result"
    }
   ],
   "source": [
    "Conta"
   ]
  },
  {
   "cell_type": "code",
   "execution_count": 12,
   "metadata": {},
   "outputs": [
    {
     "name": "stdout",
     "output_type": "stream",
     "text": [
      "Construindo Objeto\n"
     ]
    },
    {
     "data": {
      "text/plain": [
       "<__main__.Conta at 0x2c9857b0af0>"
      ]
     },
     "execution_count": 12,
     "metadata": {},
     "output_type": "execute_result"
    }
   ],
   "source": [
    "# \"Abrindo uma conta\"\n",
    "conta = Conta(123, 'Vitor', 1000.0, 1000.0)\n",
    "conta"
   ]
  },
  {
   "cell_type": "code",
   "execution_count": 14,
   "metadata": {},
   "outputs": [
    {
     "name": "stdout",
     "output_type": "stream",
     "text": [
      "Saldo de 1000.0 do Titular Vitor\n"
     ]
    }
   ],
   "source": [
    "# checando limite\n",
    "conta.extrato()"
   ]
  },
  {
   "cell_type": "code",
   "execution_count": null,
   "metadata": {},
   "outputs": [],
   "source": []
  }
 ],
 "metadata": {
  "kernelspec": {
   "display_name": "Python 3.9.0 64-bit",
   "language": "python",
   "name": "python3"
  },
  "language_info": {
   "codemirror_mode": {
    "name": "ipython",
    "version": 3
   },
   "file_extension": ".py",
   "mimetype": "text/x-python",
   "name": "python",
   "nbconvert_exporter": "python",
   "pygments_lexer": "ipython3",
   "version": "3.9.0"
  },
  "orig_nbformat": 4,
  "vscode": {
   "interpreter": {
    "hash": "c77c143492b9dd6f42c8b3369f3e8e42061da6748ee0f67ec3313d28fe05717f"
   }
  }
 },
 "nbformat": 4,
 "nbformat_minor": 2
}
